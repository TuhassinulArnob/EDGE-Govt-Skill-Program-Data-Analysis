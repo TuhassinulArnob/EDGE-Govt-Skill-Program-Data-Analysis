{
 "cells": [
  {
   "cell_type": "markdown",
   "metadata": {},
   "source": [
    "# Set in Python"
   ]
  },
  {
   "cell_type": "markdown",
   "metadata": {},
   "source": [
    "a set is an unordered\n"
   ]
  },
  {
   "cell_type": "markdown",
   "metadata": {},
   "source": [
    "creating sets"
   ]
  },
  {
   "cell_type": "code",
   "execution_count": 10,
   "metadata": {},
   "outputs": [
    {
     "name": "stdout",
     "output_type": "stream",
     "text": [
      "{1, 2, 3, 4, 5}\n",
      "{1, 2, 3, 4, 5}\n",
      "1\n",
      "2\n",
      "3\n",
      "4\n",
      "5\n"
     ]
    }
   ],
   "source": [
    "my_set={1,2,3,4,5} # using curly braces\n",
    "print(my_set)\n",
    "\n",
    "my_set1= set([1,2,3,4,5]) # using set() constructor.\n",
    "print(my_set1)\n",
    "\n",
    "for i in my_set1:\n",
    "    "
   ]
  },
  {
   "cell_type": "markdown",
   "metadata": {},
   "source": [
    "# Accessing Elements"
   ]
  },
  {
   "cell_type": "code",
   "execution_count": 11,
   "metadata": {},
   "outputs": [
    {
     "name": "stdout",
     "output_type": "stream",
     "text": [
      "1\n",
      "2\n",
      "3\n",
      "4\n",
      "5\n"
     ]
    }
   ],
   "source": [
    "for i in my_set:\n",
    "    print(i)"
   ]
  },
  {
   "cell_type": "markdown",
   "metadata": {},
   "source": [
    "adding and removing elements"
   ]
  },
  {
   "cell_type": "code",
   "execution_count": 20,
   "metadata": {},
   "outputs": [
    {
     "name": "stdout",
     "output_type": "stream",
     "text": [
      "{1, 2, 3, 4, 5}\n",
      "{1, 2, 3, 4, 5, 8}\n",
      "{1, 2, 4, 5, 8}\n",
      "{1, 2, 4, 8}\n",
      "set()\n"
     ]
    }
   ],
   "source": [
    "my_set={1,2,3,4,5} # using curly braces\n",
    "print(my_set)\n",
    "\n",
    "my_set.add(8)\n",
    "print(my_set)\n",
    "\n",
    "my_set.remove(3) # must be in the list .. or it will key error\n",
    "print(my_set)\n",
    "\n",
    "my_set.discard(5) # no error will generate... \n",
    "print(my_set)\n",
    "\n",
    "my_set.clear()\n",
    "print(my_set)"
   ]
  },
  {
   "cell_type": "markdown",
   "metadata": {},
   "source": [
    "# Set Operations"
   ]
  },
  {
   "cell_type": "code",
   "execution_count": 21,
   "metadata": {},
   "outputs": [
    {
     "name": "stdout",
     "output_type": "stream",
     "text": [
      "{1, 2, 3, 4, 6, 7}\n"
     ]
    }
   ],
   "source": [
    "set1={1,2,3,4}\n",
    "set2={3,4,6,7}\n",
    "\n",
    "# Union of set.\n",
    "union_set= set1 | set2 # Using operator\n",
    "print(union_set)\n",
    "union_set_2= set1.union(set2) # using method....\n",
    "\n",
    "#intersection of a set\n",
    "intersect_set = set1 & set2 # using operator\n",
    "print(intersect_set)\n",
    "intersect_set2=set1.intersection(set2) # using method\n",
    "print(intersect_set2)\n",
    "\n",
    "# difference operator\n",
    "diff_opr= set1 - set2\n",
    "print(diff_opr)\n",
    "difference_set=set1.difference(set2)\n",
    "print(difference_set)\n",
    "\n",
    "\n",
    "\n"
   ]
  },
  {
   "cell_type": "markdown",
   "metadata": {},
   "source": [
    "# Update\n"
   ]
  },
  {
   "cell_type": "code",
   "execution_count": 22,
   "metadata": {},
   "outputs": [
    {
     "name": "stdout",
     "output_type": "stream",
     "text": [
      "{1, 2, 3, 4}\n"
     ]
    }
   ],
   "source": [
    "myset={1,2,3}\n",
    "myset.update([2,3,4])\n",
    "print(myset)"
   ]
  },
  {
   "cell_type": "markdown",
   "metadata": {},
   "source": [
    "# Intersection_Update()"
   ]
  },
  {
   "cell_type": "code",
   "execution_count": 23,
   "metadata": {},
   "outputs": [
    {
     "name": "stdout",
     "output_type": "stream",
     "text": [
      "{3}\n"
     ]
    }
   ],
   "source": [
    "set1={1,2,3}\n",
    "set2={3,4,5}\n",
    "\n",
    "set1.intersection_update(set2)\n",
    "print(set1)"
   ]
  },
  {
   "cell_type": "markdown",
   "metadata": {},
   "source": [
    "# Set Comprehensions"
   ]
  },
  {
   "cell_type": "code",
   "execution_count": 29,
   "metadata": {},
   "outputs": [
    {
     "name": "stdout",
     "output_type": "stream",
     "text": [
      "{'i', 'o', 'a', 'e'}\n"
     ]
    }
   ],
   "source": [
    "# lists of words\n",
    "my_list = [ 'hello', 'my', ' name ', 'is']\n",
    "\n",
    "# set comperehension to extract unique vowels from all words\n",
    "vowels = { char for word in my_list for char in word if char in 'aeiouAEIOU'}\n",
    "print(vowels)"
   ]
  },
  {
   "cell_type": "markdown",
   "metadata": {},
   "source": [
    "empty set"
   ]
  },
  {
   "cell_type": "code",
   "execution_count": 33,
   "metadata": {},
   "outputs": [
    {
     "name": "stdout",
     "output_type": "stream",
     "text": [
      "<class 'set'>\n"
     ]
    }
   ],
   "source": [
    "set1= set()\n",
    "print(type(set1))"
   ]
  },
  {
   "cell_type": "markdown",
   "metadata": {},
   "source": [
    "frozen set....\n"
   ]
  },
  {
   "cell_type": "code",
   "execution_count": 31,
   "metadata": {},
   "outputs": [
    {
     "name": "stdout",
     "output_type": "stream",
     "text": [
      "frozenset({1, 66, 3, 4, 5})\n"
     ]
    },
    {
     "ename": "AttributeError",
     "evalue": "'frozenset' object has no attribute 'add'",
     "output_type": "error",
     "traceback": [
      "\u001b[1;31m---------------------------------------------------------------------------\u001b[0m",
      "\u001b[1;31mAttributeError\u001b[0m                            Traceback (most recent call last)",
      "Cell \u001b[1;32mIn[31], line 3\u001b[0m\n\u001b[0;32m      1\u001b[0m set1\u001b[38;5;241m=\u001b[39m\u001b[38;5;28mfrozenset\u001b[39m([\u001b[38;5;241m1\u001b[39m,\u001b[38;5;241m3\u001b[39m,\u001b[38;5;241m4\u001b[39m,\u001b[38;5;241m5\u001b[39m,\u001b[38;5;241m66\u001b[39m])\n\u001b[0;32m      2\u001b[0m \u001b[38;5;28mprint\u001b[39m(set1)\n\u001b[1;32m----> 3\u001b[0m \u001b[43mset1\u001b[49m\u001b[38;5;241;43m.\u001b[39;49m\u001b[43madd\u001b[49m(\u001b[38;5;241m31\u001b[39m) \u001b[38;5;66;03m# Attribute Error\u001b[39;00m\n\u001b[0;32m      4\u001b[0m \u001b[38;5;28mprint\u001b[39m(set1)\n",
      "\u001b[1;31mAttributeError\u001b[0m: 'frozenset' object has no attribute 'add'"
     ]
    }
   ],
   "source": [
    "set1=frozenset([1,3,4,5,66])\n",
    "print(set1)\n",
    "set1.add(31) # Attribute Error\n",
    "print(set1)"
   ]
  },
  {
   "cell_type": "markdown",
   "metadata": {},
   "source": [
    "# Dictionary"
   ]
  },
  {
   "cell_type": "markdown",
   "metadata": {},
   "source": [
    "unordered collection of key-value pair"
   ]
  },
  {
   "cell_type": "markdown",
   "metadata": {},
   "source": [
    "key is unique... mutable "
   ]
  },
  {
   "cell_type": "code",
   "execution_count": 42,
   "metadata": {},
   "outputs": [
    {
     "name": "stdout",
     "output_type": "stream",
     "text": [
      "{'name': 'Arnob', 'age': 22, 'city': 'Kushtia'}\n",
      "{'name': 'john', 'age': 30, 'city': 'Dhaka'}\n",
      "{1: 'john', 2: 30, 3: 'Dhaka'}\n"
     ]
    }
   ],
   "source": [
    "my_dict = {'name':'Arnob','age':22,'city':'Kushtia'}\n",
    "print(my_dict)\n",
    "\n",
    "my_dict2 = dict(name='john',age=30,city='Dhaka')\n",
    "print(my_dict2)\n",
    "\n",
    "my_dict_3 = {1: 'john', 2: 30, 3: 'Dhaka'} # if you wanna use number as key... use curly braces .. not dict method\n",
    "print(my_dict_3)\n"
   ]
  },
  {
   "cell_type": "markdown",
   "metadata": {},
   "source": [
    "# Accessing Adding Modifying Removing elements"
   ]
  },
  {
   "cell_type": "code",
   "execution_count": 45,
   "metadata": {},
   "outputs": [
    {
     "name": "stdout",
     "output_type": "stream",
     "text": [
      "{'name': 'Arnob', 'age': 22, 'city': 'Kushtia'}\n",
      "Arnob\n",
      "22\n",
      "{'name': 'Arnob', 'age': 31, 'city': 'Kushtia', 'country': 'Bangladesh'}\n",
      "{'name': 'Arnob', 'city': 'Kushtia', 'country': 'Bangladesh'}\n",
      "{'city': 'Kushtia', 'country': 'Bangladesh'}\n",
      "{'city': 'Kushtia'}\n"
     ]
    }
   ],
   "source": [
    "my_dict = {'name':'Arnob','age':22,'city':'Kushtia'}\n",
    "print(my_dict)\n",
    "\n",
    "#Accessing the value of a key in dictionary\n",
    "print(my_dict['name']) \n",
    "print(my_dict.get('age'))\n",
    "\n",
    "# Adding key value paris\n",
    "my_dict['country']='Bangladesh'\n",
    "my_dict['age']=31 # modifying existing value..\n",
    "print(my_dict)\n",
    "\n",
    "del my_dict['age']\n",
    "print(my_dict)\n",
    "value= my_dict.pop('name') # remove key value pair bby key and return value\n",
    "print(my_dict)\n",
    "key,value=my_dict.popitem() # remove and return last key-value pair\n",
    "print(my_dict)\n"
   ]
  },
  {
   "cell_type": "markdown",
   "metadata": {},
   "source": [
    "# Task"
   ]
  },
  {
   "cell_type": "code",
   "execution_count": null,
   "metadata": {},
   "outputs": [],
   "source": [
    "my_dict={}\n",
    "n = int(input(\"How many element want to add:\"))\n",
    "\n",
    "while(n>0):\n",
    "    key = input(\"Enter key: \")\n",
    "    value = input(\"Enter Value: \")\n",
    "    my_dict[key] = value\n",
    "    n-=1\n",
    "\n",
    "print(my_dict)\n"
   ]
  },
  {
   "cell_type": "markdown",
   "metadata": {},
   "source": [
    "# Dictionary Method"
   ]
  },
  {
   "cell_type": "code",
   "execution_count": 55,
   "metadata": {},
   "outputs": [
    {
     "name": "stdout",
     "output_type": "stream",
     "text": [
      "{'name': 'Arnob', 'age': 22, 'city': 'Kushtia'}\n",
      "dict_keys(['name', 'age', 'city'])\n",
      "dict_values(['Arnob', 22, 'Kushtia'])\n",
      "dict_items([('name', 'Arnob'), ('age', 22), ('city', 'Kushtia')])\n",
      "None\n"
     ]
    }
   ],
   "source": [
    "my_dict = {'name':'Arnob','age':22,'city':'Kushtia'}\n",
    "print(my_dict)\n",
    "\n",
    "print(my_dict.keys())\n",
    "print(my_dict.values())\n",
    "print(my_dict.items()) # get number of keu value pairs\n",
    "print(my_dict.clear())"
   ]
  },
  {
   "cell_type": "markdown",
   "metadata": {},
   "source": [
    "# Dictionary Comprehensions"
   ]
  },
  {
   "cell_type": "markdown",
   "metadata": {},
   "source": []
  },
  {
   "cell_type": "code",
   "execution_count": 56,
   "metadata": {},
   "outputs": [
    {
     "name": "stdout",
     "output_type": "stream",
     "text": [
      "{'apple': 5, 'Banana': 6, 'mango': 5}\n"
     ]
    }
   ],
   "source": [
    "words=[\"apple\",'Banana','mango']\n",
    "\n",
    "word_lengths={word:len(word) for word in words}\n",
    "print(word_lengths)"
   ]
  }
 ],
 "metadata": {
  "kernelspec": {
   "display_name": "Python 3",
   "language": "python",
   "name": "python3"
  },
  "language_info": {
   "codemirror_mode": {
    "name": "ipython",
    "version": 3
   },
   "file_extension": ".py",
   "mimetype": "text/x-python",
   "name": "python",
   "nbconvert_exporter": "python",
   "pygments_lexer": "ipython3",
   "version": "3.12.2"
  }
 },
 "nbformat": 4,
 "nbformat_minor": 2
}
