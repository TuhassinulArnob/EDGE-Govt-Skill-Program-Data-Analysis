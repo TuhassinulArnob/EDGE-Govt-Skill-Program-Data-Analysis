{
 "cells": [
  {
   "cell_type": "markdown",
   "metadata": {},
   "source": [
    "# Conditional Statements"
   ]
  },
  {
   "cell_type": "markdown",
   "metadata": {},
   "source": [
    "if else statement"
   ]
  },
  {
   "cell_type": "code",
   "execution_count": 2,
   "metadata": {},
   "outputs": [
    {
     "name": "stdout",
     "output_type": "stream",
     "text": [
      "12  is even\n",
      "\n"
     ]
    }
   ],
   "source": [
    "x=12\n",
    "if (x%2==0):\n",
    "    print(x,\" is even\\n\")\n",
    "elif(x==0):\n",
    "    print(x,\" is Zer0\\n\")\n",
    "else:\n",
    "    print(x,\" is Odd\\n\")\n",
    "    "
   ]
  },
  {
   "cell_type": "markdown",
   "metadata": {},
   "source": [
    "logical operator \n",
    "and\n",
    "or\n",
    "not"
   ]
  },
  {
   "cell_type": "markdown",
   "metadata": {},
   "source": [
    "changing condition in python"
   ]
  },
  {
   "cell_type": "code",
   "execution_count": 2,
   "metadata": {},
   "outputs": [
    {
     "name": "stdout",
     "output_type": "stream",
     "text": [
      "True\n",
      "True\n"
     ]
    }
   ],
   "source": [
    "# (a>1 and a<10) you can make this  into  one line:\n",
    "# 1<a<10\n",
    "\n",
    "\n",
    "\n",
    "x=5\n",
    "\n",
    "if(x>1 and x<10 ):\n",
    "    print(\"True\")\n",
    "#can be writen as\n",
    "if(1<x<10):\n",
    "    print(\"True\")\n"
   ]
  },
  {
   "cell_type": "markdown",
   "metadata": {},
   "source": [
    "age measurement"
   ]
  },
  {
   "cell_type": "code",
   "execution_count": 7,
   "metadata": {},
   "outputs": [
    {
     "name": "stdout",
     "output_type": "stream",
     "text": [
      "Senior Cetizine\n"
     ]
    }
   ],
   "source": [
    "age = int(input(\"Enter Age: \"))\n",
    "if(0<age<=12):\n",
    "    print(\"Child\")\n",
    "elif(12<age<=18):\n",
    "    print(\"Teenager\")\n",
    "elif(18<age<=65):\n",
    "    print(\"Adult\")\n",
    "else:\n",
    "    print(\"Senior Cetizine\")"
   ]
  },
  {
   "cell_type": "markdown",
   "metadata": {},
   "source": [
    "Leap Year"
   ]
  },
  {
   "cell_type": "code",
   "execution_count": 11,
   "metadata": {},
   "outputs": [
    {
     "name": "stdout",
     "output_type": "stream",
     "text": [
      "Leap Year\n"
     ]
    }
   ],
   "source": [
    "year = int(input(\"Enter a Year\"))\n",
    "if((year%4==0 and year%100!=0)or year%400==0):\n",
    "    print(\"Leap Year\")\n",
    "else:\n",
    "    print(\"Not Leap Year\")"
   ]
  },
  {
   "cell_type": "markdown",
   "metadata": {},
   "source": [
    "Calculator. basic"
   ]
  },
  {
   "cell_type": "code",
   "execution_count": 16,
   "metadata": {},
   "outputs": [
    {
     "name": "stdout",
     "output_type": "stream",
     "text": [
      "after applied operator:3\n"
     ]
    }
   ],
   "source": [
    "num1=int(input(\"Enter 1st number:\"))\n",
    "num2=int(input(\"Enter 2nd number:\"))\n",
    "\n",
    "operator=input(\"Entered Operator could be +,-,*,/ one of them:\")\n",
    "if operator=='+':\n",
    "    result=num1+num2\n",
    "elif operator=='-':\n",
    "    result=num1-num2\n",
    "elif operator=='*':\n",
    "    result=num1*num2\n",
    "elif operator=='/':\n",
    "    result=num1/num2\n",
    "print(f\"after applied operator:{result}\")\n",
    "\n",
    "\n"
   ]
  },
  {
   "cell_type": "markdown",
   "metadata": {},
   "source": [
    "String\n"
   ]
  },
  {
   "cell_type": "code",
   "execution_count": 1,
   "metadata": {},
   "outputs": [
    {
     "name": "stdout",
     "output_type": "stream",
     "text": [
      "ict iu\n",
      "ICT IU\n",
      "CT \n",
      "CT IU\n",
      "ICT \n",
      "ICT IU\n",
      "UI TCI\n"
     ]
    }
   ],
   "source": [
    "dept = \"ICT IU\"\n",
    "print(dept.lower())\n",
    "print(dept.upper())\n",
    "print(dept[1:4])\n",
    "print(dept[1:])\n",
    "print(dept[:4])\n",
    "print(dept[:])\n",
    "\n",
    "print(dept[::-1])"
   ]
  },
  {
   "cell_type": "code",
   "execution_count": 34,
   "metadata": {},
   "outputs": [
    {
     "name": "stdout",
     "output_type": "stream",
     "text": [
      "2\n",
      "I Hate bangladesh\n",
      "['I', 'love', 'bangladesh']\n"
     ]
    }
   ],
   "source": [
    "bio= \"I love bangladesh\"\n",
    "print(bio.find(\"love\"))\n",
    "print(bio.replace(\"love\",\"Hate\"))\n",
    "print(bio.split())"
   ]
  }
 ],
 "metadata": {
  "kernelspec": {
   "display_name": "Python 3",
   "language": "python",
   "name": "python3"
  },
  "language_info": {
   "codemirror_mode": {
    "name": "ipython",
    "version": 3
   },
   "file_extension": ".py",
   "mimetype": "text/x-python",
   "name": "python",
   "nbconvert_exporter": "python",
   "pygments_lexer": "ipython3",
   "version": "3.12.2"
  }
 },
 "nbformat": 4,
 "nbformat_minor": 2
}
