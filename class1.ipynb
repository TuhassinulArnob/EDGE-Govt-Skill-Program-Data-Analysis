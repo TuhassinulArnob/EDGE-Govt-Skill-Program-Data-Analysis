{
 "cells": [
  {
   "cell_type": "markdown",
   "metadata": {},
   "source": [
    "# Data Type"
   ]
  },
  {
   "cell_type": "code",
   "execution_count": 5,
   "metadata": {},
   "outputs": [
    {
     "name": "stdout",
     "output_type": "stream",
     "text": [
      "22.3\n",
      "Hello  2019024\n",
      "My name is Arnob. i am 22.3 years old\n",
      "<class 'float'>\n"
     ]
    },
    {
     "data": {
      "text/plain": [
       "float"
      ]
     },
     "execution_count": 5,
     "metadata": {},
     "output_type": "execute_result"
    }
   ],
   "source": [
    "roll = 2019024\n",
    "name = \"Arnob\"\n",
    "age = 22.3\n",
    "\n",
    "print(age)\n",
    "print(\"Hello \",roll)\n",
    "\n",
    "print(f\"My name is {name}. i am {age} years old\")\n",
    "\n",
    "print(type(age))\n",
    "type(age)\n"
   ]
  },
  {
   "cell_type": "markdown",
   "metadata": {},
   "source": [
    "# Input"
   ]
  },
  {
   "cell_type": "code",
   "execution_count": 8,
   "metadata": {},
   "outputs": [
    {
     "name": "stdout",
     "output_type": "stream",
     "text": [
      "0\n"
     ]
    }
   ],
   "source": [
    "a= int(input(\"Enter a value\"))\n",
    "b= int(input(\"Enter  another value\"))\n",
    "\n",
    "print(a-b) \n",
    "\n"
   ]
  },
  {
   "cell_type": "markdown",
   "metadata": {},
   "source": [
    "# Operator\n"
   ]
  },
  {
   "cell_type": "markdown",
   "metadata": {},
   "source": [
    "# Python Arithmetic Operators\n",
    "Arithmetic operators are used with numeric values to perform common mathematical operations:\n",
    "\n",
    "+\tAddition\tx + y\t\n",
    "-\tSubtraction\tx - y\t\n",
    "*\tMultiplication\tx * y\t\n",
    "/\tDivision\tx / y\t\n",
    "%\tModulus\tx % y\t\n",
    "**\tExponentiation\tx ** y\t\n",
    "//\tFloor division\tx // y"
   ]
  },
  {
   "cell_type": "markdown",
   "metadata": {},
   "source": [
    "# Python Assignment Operators\n",
    "Assignment operators are used to assign values to variables:\n",
    "\n",
    "x = 5 \t\n",
    "x += 3\t\t\n",
    "x -= 3\t\t\n",
    "x *= 3\t\t\n",
    "x /= 3\t\n",
    "x %= 3\t\t\n",
    "x //= 3\t\n",
    "x **= 3\t\n",
    "x &= 3\t\t\n",
    "x |= 3\t\t\n",
    "x ^= 3\t\t\n",
    "x >>= 3\t\t\n",
    "x <<= 3\t\t\n",
    ":=\tprint(x := 3)\tx = 3\n",
    "print(x)"
   ]
  },
  {
   "cell_type": "markdown",
   "metadata": {},
   "source": [
    "# Python Comparison Operators\n",
    "Comparison operators are used to compare two values:\n",
    "\n",
    "==\tEqual\tx == y\t\n",
    "!=\tNot equal\tx != y\t\n",
    ">\tGreater than\tx > y\t\n",
    "<\tLess than\tx < y\t\n",
    ">=\tGreater than or equal to\tx >= y\t\n",
    "<=\tLess than or equal to\tx <= y"
   ]
  },
  {
   "cell_type": "markdown",
   "metadata": {},
   "source": [
    "# Python Identity Operators\n",
    "Identity operators are used to compare the objects, not if they are equal, but if they are actually the same object, with the same memory location:\n",
    "\n",
    "\n",
    "is  \t Returns True if both variables are the same object\tx is y\t\n",
    "is not\t Returns True if both variables are not the same object\tx is not y"
   ]
  },
  {
   "cell_type": "markdown",
   "metadata": {},
   "source": [
    "# Python Membership Operators\n",
    "Membership operators are used to test if a sequence is presented in an object:\n",
    "\n",
    "\n",
    "# in\n",
    "Returns True if a sequence with the specified value is present in the object\tx in y\t\n",
    "## not in\t\n",
    "Returns True if a sequence with the specified value is not present in the object\tx not in y"
   ]
  },
  {
   "cell_type": "markdown",
   "metadata": {},
   "source": [
    "# Practice\n",
    "Task 1\n",
    "Temperature Conversion "
   ]
  },
  {
   "cell_type": "code",
   "execution_count": 2,
   "metadata": {},
   "outputs": [
    {
     "name": "stdout",
     "output_type": "stream",
     "text": [
      "You have entered 32.0 degree celcius.\n",
      "\n",
      "Temperature in Fahrenheit is : 89.6\n"
     ]
    }
   ],
   "source": [
    "c= float(input(\"Enter  the value of Temperature in Celcius: \"))\n",
    "print(f\"You have entered {c} degree celcius.\\n\")\n",
    "f = (c *9/5) +32\n",
    "print (\"Temperature in Fahrenheit is :\", f)"
   ]
  },
  {
   "cell_type": "markdown",
   "metadata": {},
   "source": [
    "Task 2\n",
    "\n",
    "Calculate the Area of a Rectangle"
   ]
  },
  {
   "cell_type": "code",
   "execution_count": 1,
   "metadata": {},
   "outputs": [
    {
     "name": "stdout",
     "output_type": "stream",
     "text": [
      "The area of the rectangle is: 12.0\n"
     ]
    }
   ],
   "source": [
    "length = float(input(\"Enter the length of the rectangle: \"))\n",
    "width = float(input(\"Enter the width of the rectangle: \"))\n",
    "\n",
    "area = length * width\n",
    "\n",
    "print(\"The area of the rectangle is:\", area)\n"
   ]
  }
 ],
 "metadata": {
  "kernelspec": {
   "display_name": "Python 3",
   "language": "python",
   "name": "python3"
  },
  "language_info": {
   "codemirror_mode": {
    "name": "ipython",
    "version": 3
   },
   "file_extension": ".py",
   "mimetype": "text/x-python",
   "name": "python",
   "nbconvert_exporter": "python",
   "pygments_lexer": "ipython3",
   "version": "3.12.2"
  }
 },
 "nbformat": 4,
 "nbformat_minor": 2
}
