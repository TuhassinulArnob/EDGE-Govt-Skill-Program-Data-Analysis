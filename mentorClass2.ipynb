{
 "cells": [
  {
   "cell_type": "markdown",
   "metadata": {},
   "source": [
    "# Team Work 1"
   ]
  },
  {
   "cell_type": "markdown",
   "metadata": {},
   "source": [
    "# QuillBot\n",
    "It's an AI powered Paraphrasing tool that also checks gramatical errors.\n"
   ]
  },
  {
   "cell_type": "markdown",
   "metadata": {},
   "source": [
    "# WhatsApp\n",
    "It is a free messeging app. We can Text,Call, Video Chat with other completely Free"
   ]
  },
  {
   "cell_type": "markdown",
   "metadata": {},
   "source": [
    "# Islamic University ERP\n",
    "It is just a software idea to fully automate our university's every administrative process, from student enrollment to academic management, faculty scheduling, and financial tracking, with the aim of enhancing efficiency, transparency, and accessibility across all departments."
   ]
  },
  {
   "cell_type": "markdown",
   "metadata": {},
   "source": [
    "# Windy.Com\n",
    "It is a weather forecasting platform offering real-time interactive maps for global weather analysis and prediction."
   ]
  },
  {
   "cell_type": "markdown",
   "metadata": {},
   "source": [
    "# Task 2\n"
   ]
  },
  {
   "cell_type": "markdown",
   "metadata": {},
   "source": [
    "# Functional Requirement of Windy.com\n",
    "Real-time weather data visualization\n",
    "Interactive map functionality\n",
    "Severe weather alerts\n",
    "Access to historical weather data\n",
    "Mobile compatibility\n",
    "API integration capability\n",
    "User account management\n",
    "Forecast accuracy"
   ]
  },
  {
   "cell_type": "markdown",
   "metadata": {},
   "source": [
    "# User Story"
   ]
  }
 ],
 "metadata": {
  "kernelspec": {
   "display_name": "Python 3",
   "language": "python",
   "name": "python3"
  },
  "language_info": {
   "name": "python",
   "version": "3.12.2"
  }
 },
 "nbformat": 4,
 "nbformat_minor": 2
}
