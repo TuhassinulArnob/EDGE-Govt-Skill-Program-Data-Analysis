{
 "cells": [
  {
   "cell_type": "markdown",
   "metadata": {},
   "source": [
    "# Exercise 1: Calculating Factorials with Exception Handling"
   ]
  },
  {
   "cell_type": "markdown",
   "metadata": {},
   "source": [
    "Write a Python program that prompts the user to enter a positive integer and calculates its factorial. Handle any input errors (e.g., non-integer input, negative integer input) using exception handling.\n"
   ]
  },
  {
   "cell_type": "code",
   "execution_count": 3,
   "metadata": {},
   "outputs": [
    {
     "name": "stdout",
     "output_type": "stream",
     "text": [
      "Error: Input must be an integer\n"
     ]
    }
   ],
   "source": [
    "try:\n",
    "    n = int(input(\"Enter a positive integer: \"))\n",
    "    if n < 0:\n",
    "        print(\"Error: Input must be a positive integer\")\n",
    "    else:\n",
    "        factorial = 1\n",
    "        for i in range(1, n + 1):\n",
    "            factorial *= i\n",
    "        print(\"Factorial of\", n, \"is\", factorial)\n",
    "except ValueError:\n",
    "    print(\"Error: Input must be an integer\")"
   ]
  },
  {
   "cell_type": "markdown",
   "metadata": {},
   "source": [
    "# Exercise 2: Password Verification with Exception Handling"
   ]
  },
  {
   "cell_type": "markdown",
   "metadata": {},
   "source": [
    "Write a Python program that prompts the user to enter a password and verifies whether the password meets certain criteria (e.g., minimum length, containing at least one uppercase letter and one digit) using exception handling."
   ]
  },
  {
   "cell_type": "code",
   "execution_count": 8,
   "metadata": {},
   "outputs": [
    {
     "name": "stdout",
     "output_type": "stream",
     "text": [
      "Invalid password: Password must be at least 8 characters long\n"
     ]
    }
   ],
   "source": [
    "\n",
    "try:\n",
    "    password = input(\"Enter a password: \")\n",
    "        \n",
    "    # Check if password meets criteria\n",
    "    if len(password) < 8:\n",
    "        raise ValueError(\"Password must be at least 8 characters long\")\n",
    "    if not any(char.isupper() for char in password):\n",
    "        raise ValueError(\"Password must contain at least one uppercase letter\")\n",
    "    if not any(char.isdigit() for char in password):\n",
    "        raise ValueError(\"Password must contain at least one digit\")\n",
    "\n",
    "    print(\"Password is valid\")\n",
    "    \n",
    "except ValueError as ve:\n",
    "    print(\"Invalid password:\", ve)\n",
    "\n"
   ]
  }
 ],
 "metadata": {
  "kernelspec": {
   "display_name": "Python 3",
   "language": "python",
   "name": "python3"
  },
  "language_info": {
   "codemirror_mode": {
    "name": "ipython",
    "version": 3
   },
   "file_extension": ".py",
   "mimetype": "text/x-python",
   "name": "python",
   "nbconvert_exporter": "python",
   "pygments_lexer": "ipython3",
   "version": "3.12.2"
  }
 },
 "nbformat": 4,
 "nbformat_minor": 2
}
