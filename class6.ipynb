{
 "cells": [
  {
   "cell_type": "markdown",
   "metadata": {},
   "source": [
    "# Raise Statement\n",
    "\n"
   ]
  },
  {
   "cell_type": "code",
   "execution_count": 4,
   "metadata": {},
   "outputs": [
    {
     "name": "stdout",
     "output_type": "stream",
     "text": [
      "Error:  Less than 0\n"
     ]
    }
   ],
   "source": [
    "try:\n",
    "    n=int(input())\n",
    "    if n<0 :\n",
    "        raise ValueError(\"Less than 0\")\n",
    "    print(n)\n",
    "except Exception as e:\n",
    "    print(\"Error: \",e)"
   ]
  },
  {
   "cell_type": "markdown",
   "metadata": {},
   "source": [
    "string vs raw string"
   ]
  },
  {
   "cell_type": "code",
   "execution_count": 9,
   "metadata": {},
   "outputs": [
    {
     "name": "stdout",
     "output_type": "stream",
     "text": [
      "f:\\path\\to\\file.txt\n",
      "f:\\path\to\file.txt\n"
     ]
    },
    {
     "name": "stderr",
     "output_type": "stream",
     "text": [
      "<>:3: SyntaxWarning: invalid escape sequence '\\p'\n",
      "<>:3: SyntaxWarning: invalid escape sequence '\\p'\n",
      "C:\\Users\\USER\\AppData\\Local\\Temp\\ipykernel_12436\\3864069002.py:3: SyntaxWarning: invalid escape sequence '\\p'\n",
      "  s = 'f:\\path\\to\\file.txt'\n"
     ]
    }
   ],
   "source": [
    "rs= r'f:\\path\\to\\file.txt'\n",
    "print(rs)\n",
    "\n",
    "s = 'f:\\path\\to\\file.txt'\n",
    "print(s)"
   ]
  },
  {
   "cell_type": "markdown",
   "metadata": {},
   "source": [
    "regular expression  RegEx functions\n"
   ]
  },
  {
   "cell_type": "code",
   "execution_count": 24,
   "metadata": {},
   "outputs": [
    {
     "name": "stdout",
     "output_type": "stream",
     "text": [
      "<regex.Match object; span=(16, 19), match='fox'>\n",
      "fox\n"
     ]
    }
   ],
   "source": [
    "import regex as re\n",
    "text=\"The quick brown fox jumps over a lazy dog\"\n",
    "pattern=r\"Fox\"\n",
    "match= re.search(pattern,text, re.IGNORECASE)\n",
    "print(match)\n",
    "print(match.group())\n"
   ]
  },
  {
   "cell_type": "code",
   "execution_count": 18,
   "metadata": {},
   "outputs": [
    {
     "name": "stdout",
     "output_type": "stream",
     "text": [
      "Occurance of  ['fox']\n"
     ]
    }
   ],
   "source": [
    "matches=re.findall(pattern,text)\n",
    "print(\"Occurance of \",matches)"
   ]
  },
  {
   "cell_type": "code",
   "execution_count": 19,
   "metadata": {},
   "outputs": [
    {
     "name": "stdout",
     "output_type": "stream",
     "text": [
      "The quick brown cat jumps over a lazy dog\n"
     ]
    }
   ],
   "source": [
    "new_text=re.sub(pattern,\"cat\",text)\n",
    "print(new_text)"
   ]
  },
  {
   "cell_type": "markdown",
   "metadata": {},
   "source": [
    "# meta charecters....\n"
   ]
  },
  {
   "cell_type": "code",
   "execution_count": 29,
   "metadata": {},
   "outputs": [
    {
     "name": "stdout",
     "output_type": "stream",
     "text": [
      "['apple', ' banana', ' cherry ', ' date']\n"
     ]
    }
   ],
   "source": [
    "text=\"apple, banana; cherry - date\"\n",
    "pattern=r\"[,;\\n-]+\"\n",
    "tokens = re.split(pattern,text)\n",
    "print(tokens)"
   ]
  },
  {
   "cell_type": "code",
   "execution_count": 32,
   "metadata": {},
   "outputs": [
    {
     "name": "stdout",
     "output_type": "stream",
     "text": [
      "Tokens:  ['apple', 'banana', 'cherry', 'date']\n"
     ]
    }
   ],
   "source": [
    "text=\"apple123banana456cherry789date\"\n",
    "pattern=r\"\\d+\"\n",
    "tokens=re.split(pattern,text)\n",
    "print(\"Tokens: \",tokens)"
   ]
  },
  {
   "cell_type": "markdown",
   "metadata": {},
   "source": [
    "multiple example"
   ]
  },
  {
   "cell_type": "code",
   "execution_count": 33,
   "metadata": {},
   "outputs": [
    {
     "name": "stdout",
     "output_type": "stream",
     "text": [
      "<regex.Match object; span=(27, 37), match='2024-05-10'>\n"
     ]
    }
   ],
   "source": [
    "text=\"The event is scheduled for 2024-05-10\"\n",
    "pattern=r\"\\d{4}-\\d{2}-\\d{2}\"\n",
    "match=re.search(pattern,text)\n",
    "print(match)"
   ]
  },
  {
   "cell_type": "markdown",
   "metadata": {},
   "source": [
    "exercse.. finding vowel"
   ]
  },
  {
   "cell_type": "code",
   "execution_count": 43,
   "metadata": {},
   "outputs": [
    {
     "name": "stdout",
     "output_type": "stream",
     "text": [
      "['e', 'o', 'i', 'a', 'a', 'a', 'u', 'a', 'i', 'u', 'a', 'o']\n",
      "12\n"
     ]
    }
   ],
   "source": [
    "text=\"Hello i am sarkar tuhassinul arnob\"\n",
    "pattern=r\"[aeiou]\"\n",
    "match=re.findall(pattern,text)\n",
    "print(match)\n",
    "print(len(match))"
   ]
  }
 ],
 "metadata": {
  "kernelspec": {
   "display_name": "Python 3",
   "language": "python",
   "name": "python3"
  },
  "language_info": {
   "codemirror_mode": {
    "name": "ipython",
    "version": 3
   },
   "file_extension": ".py",
   "mimetype": "text/x-python",
   "name": "python",
   "nbconvert_exporter": "python",
   "pygments_lexer": "ipython3",
   "version": "3.12.2"
  }
 },
 "nbformat": 4,
 "nbformat_minor": 2
}
