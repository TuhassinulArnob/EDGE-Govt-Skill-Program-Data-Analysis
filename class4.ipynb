{
 "cells": [
  {
   "cell_type": "markdown",
   "metadata": {},
   "source": [
    "Previous Class Task. Gradeing System"
   ]
  },
  {
   "cell_type": "code",
   "execution_count": 3,
   "metadata": {},
   "outputs": [
    {
     "name": "stdout",
     "output_type": "stream",
     "text": [
      "fail\n"
     ]
    }
   ],
   "source": [
    "\n",
    "number=int(input(\"Enter a number between 0 to 100:\"))\n",
    "\n",
    "if number<40:\n",
    "    print(\"fail\")\n",
    "elif number>=40 and number<=49:\n",
    "    print(\"d\")\n",
    "    \n",
    "elif number>=50 and number<=59:\n",
    "    print(\"c\")\n",
    "elif number>=60 and number<=69:\n",
    "    print(\"b\")\n",
    "elif number>=70 and number<=79:\n",
    "    print(\"a\")\n",
    "elif number>=80:\n",
    "    print(\"a+\")\n",
    "else:\n",
    "    print(\"Entered number is invalid\")"
   ]
  },
  {
   "cell_type": "markdown",
   "metadata": {},
   "source": [
    "# Memory Management"
   ]
  },
  {
   "cell_type": "markdown",
   "metadata": {},
   "source": [
    "stack memory and Heap memory\n"
   ]
  },
  {
   "cell_type": "markdown",
   "metadata": {},
   "source": [
    "function memory stack"
   ]
  },
  {
   "cell_type": "code",
   "execution_count": 8,
   "metadata": {},
   "outputs": [
    {
     "name": "stdout",
     "output_type": "stream",
     "text": [
      "140717986763032\n",
      "10\n",
      "140717986763032\n"
     ]
    }
   ],
   "source": [
    "def dif(x,y):\n",
    "    print(id(x))\n",
    "    return x-y\n",
    "a=60\n",
    "b=50\n",
    "print(dif(a,b))\n",
    "print(id(a))"
   ]
  },
  {
   "cell_type": "markdown",
   "metadata": {},
   "source": [
    "task print odd"
   ]
  },
  {
   "cell_type": "code",
   "execution_count": 9,
   "metadata": {},
   "outputs": [
    {
     "name": "stdout",
     "output_type": "stream",
     "text": [
      "1\n",
      "3\n",
      "5\n",
      "7\n",
      "9\n",
      "11\n",
      "13\n",
      "15\n",
      "17\n",
      "19\n"
     ]
    }
   ],
   "source": [
    "n=int(input(\"Enter a number:\"))\n",
    "\n",
    "i=1\n",
    "while i<=n:\n",
    "    print(i)\n",
    "    i=i+2"
   ]
  },
  {
   "cell_type": "markdown",
   "metadata": {},
   "source": [
    "task.. "
   ]
  },
  {
   "cell_type": "code",
   "execution_count": 19,
   "metadata": {},
   "outputs": [
    {
     "name": "stdout",
     "output_type": "stream",
     "text": [
      "9 X 1= 9\n",
      "9 X 2= 18\n",
      "9 X 3= 27\n",
      "9 X 4= 36\n",
      "9 X 5= 45\n",
      "9 X 6= 54\n",
      "9 X 7= 63\n",
      "9 X 8= 72\n",
      "9 X 9= 81\n"
     ]
    }
   ],
   "source": [
    "n=int(input(\"Enter a number:\"))\n",
    "i=1\n",
    "while i<=n:\n",
    "    print(f\"{n} X {i}= {n*i}\")\n",
    "    i=i+1"
   ]
  },
  {
   "cell_type": "markdown",
   "metadata": {},
   "source": [
    "factorial"
   ]
  },
  {
   "cell_type": "code",
   "execution_count": 23,
   "metadata": {},
   "outputs": [
    {
     "name": "stdout",
     "output_type": "stream",
     "text": [
      "Factorial of 1 is 720\n"
     ]
    }
   ],
   "source": [
    "n = int(input(\"Enter a number to check factorial: \"))\n",
    "ans=1\n",
    "while n>1:\n",
    "    ans*=n\n",
    "    n-=1\n",
    "print(f\"Factorial of {n} is {ans}\")"
   ]
  },
  {
   "cell_type": "markdown",
   "metadata": {},
   "source": [
    "string reversal"
   ]
  },
  {
   "cell_type": "code",
   "execution_count": 2,
   "metadata": {},
   "outputs": [
    {
     "name": "stdout",
     "output_type": "stream",
     "text": [
      "bonra\n"
     ]
    }
   ],
   "source": [
    "n = input(\"Enter a string\")\n",
    "i = len(n)-1\n",
    "reverse=''\n",
    "while (i>=0):\n",
    "    reverse+=n[i]\n",
    "    i-=1\n",
    "\n",
    "print(reverse)"
   ]
  },
  {
   "cell_type": "markdown",
   "metadata": {},
   "source": [
    "vowel counter"
   ]
  },
  {
   "cell_type": "code",
   "execution_count": 4,
   "metadata": {},
   "outputs": [
    {
     "name": "stdout",
     "output_type": "stream",
     "text": [
      "Total vowel is:  2\n"
     ]
    }
   ],
   "source": [
    "n = input(\"Enter a string\")\n",
    "i= len(n)-1\n",
    "sum=0\n",
    "n.lower()\n",
    "while(i>=0):\n",
    "    if n[i]=='a' or n[i]=='e' or n[i] == 'i'or n[i] == 'o'or n[i] == 'u':\n",
    "        sum+=1\n",
    "    i-=1\n"
   ]
  }
 ],
 "metadata": {
  "kernelspec": {
   "display_name": "Python 3",
   "language": "python",
   "name": "python3"
  },
  "language_info": {
   "codemirror_mode": {
    "name": "ipython",
    "version": 3
   },
   "file_extension": ".py",
   "mimetype": "text/x-python",
   "name": "python",
   "nbconvert_exporter": "python",
   "pygments_lexer": "ipython3",
   "version": "3.12.2"
  }
 },
 "nbformat": 4,
 "nbformat_minor": 2
}
